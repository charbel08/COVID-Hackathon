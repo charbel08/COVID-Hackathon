{
 "cells": [
  {
   "cell_type": "code",
   "execution_count": 219,
   "metadata": {},
   "outputs": [],
   "source": [
    "import pandas as pd\n",
    "import torch\n",
    "import torch.nn as nn\n",
    "import torch.nn.functional as F\n",
    "import torch.optim as optim\n",
    "\n",
    "import matplotlib.pyplot as plt\n",
    "import numpy as np\n",
    "import random\n",
    "import os"
   ]
  },
  {
   "cell_type": "code",
   "execution_count": 221,
   "metadata": {},
   "outputs": [
    {
     "name": "stdout",
     "output_type": "stream",
     "text": [
      "data (104, 58, 7)\n",
      "labels (104, 58)\n"
     ]
    }
   ],
   "source": [
    "# Reading data files from my computer\n",
    "\n",
    "def get_data():\n",
    "    directory_pwd = '/Users/charbel/Desktop/GitHub/COVID-Hackathon/JohnHopkinsDataSet/'\n",
    "    directory = os.fsencode(directory_pwd)\n",
    "    data = []\n",
    "    labels = []\n",
    "    for file in os.listdir(directory):\n",
    "        filename = os.fsdecode(file)\n",
    "        if filename.endswith(\".csv\"): \n",
    "            full_path = directory_pwd + filename\n",
    "            df = pd.read_csv(full_path)\n",
    "            df = df[df.Province_State != \"Recovered\"]\n",
    "            df = df.drop([\"Lat\", \"Long_\", \"Last_Update\", \"Province_State\", \"Country_Region\", \"UID\", \"ISO3\", \"FIPS\", \"Deaths\", \"Active\"], 1)\n",
    "            df = df.fillna(df.median())\n",
    "            labels.append(df['Confirmed'].to_numpy())\n",
    "            df = df.drop(['Confirmed'], 1)\n",
    "            data.append(df.to_numpy())\n",
    "    return data, labels\n",
    "\n",
    "data, labels = get_data()\n",
    "data = np.stack(data)\n",
    "print(\"data\", data.shape)\n",
    "labels = np.stack(labels)\n",
    "print(\"labels\", labels.shape)\n",
    "# (# of days, #of states/province, #of features)\n",
    "        "
   ]
  },
  {
   "cell_type": "code",
   "execution_count": 222,
   "metadata": {},
   "outputs": [],
   "source": [
    "class RNN(nn.Module):\n",
    "    def __init__(self, hidden_size):\n",
    "        super().__init__()\n",
    "        self.rnn = nn.GRU(input_size=58*7,\n",
    "                          hidden_size=hidden_size,\n",
    "                          batch_first=True)\n",
    "        self.proj = nn.Linear(in_features=hidden_size,\n",
    "                              out_features=58)\n",
    "    \n",
    "    def forward(self, inp):\n",
    "        X = inp.reshape([-1,58*7]).unsqueeze(dim=0)\n",
    "        out, last_hidden = self.rnn(X)\n",
    "        out_seq = self.proj(out)\n",
    "        return out_seq.squeeze()"
   ]
  },
  {
   "cell_type": "code",
   "execution_count": 223,
   "metadata": {},
   "outputs": [
    {
     "data": {
      "text/plain": [
       "torch.Size([104, 58])"
      ]
     },
     "execution_count": 223,
     "metadata": {},
     "output_type": "execute_result"
    }
   ],
   "source": [
    "rnn = RNN(406)\n",
    "y = rnn(torch.Tensor(data))\n",
    "y.shape"
   ]
  },
  {
   "cell_type": "code",
   "execution_count": 224,
   "metadata": {},
   "outputs": [
    {
     "data": {
      "text/plain": [
       "tensor([[ 0.6664,  0.2482,  0.7946,  ...,  0.5328, -0.3275, -0.1726],\n",
       "        [ 0.6664,  0.2482,  0.7946,  ...,  0.5328, -0.3275, -0.1726],\n",
       "        [ 0.6032,  0.1966,  0.5804,  ...,  0.4549, -0.1044, -0.3602],\n",
       "        ...,\n",
       "        [ 0.3819,  0.1311,  0.4628,  ...,  0.8458,  0.2055, -0.0764],\n",
       "        [ 0.2310,  0.1157,  0.4124,  ...,  0.5201,  0.2668,  0.1190],\n",
       "        [ 0.2310,  0.1157,  0.4124,  ...,  0.5201,  0.2668,  0.1190]],\n",
       "       grad_fn=<SqueezeBackward0>)"
      ]
     },
     "execution_count": 224,
     "metadata": {},
     "output_type": "execute_result"
    }
   ],
   "source": [
    "y"
   ]
  },
  {
   "cell_type": "code",
   "execution_count": null,
   "metadata": {},
   "outputs": [],
   "source": []
  }
 ],
 "metadata": {
  "kernelspec": {
   "display_name": "Python 3",
   "language": "python",
   "name": "python3"
  },
  "language_info": {
   "codemirror_mode": {
    "name": "ipython",
    "version": 3
   },
   "file_extension": ".py",
   "mimetype": "text/x-python",
   "name": "python",
   "nbconvert_exporter": "python",
   "pygments_lexer": "ipython3",
   "version": "3.7.4"
  }
 },
 "nbformat": 4,
 "nbformat_minor": 2
}
