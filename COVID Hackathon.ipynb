{
 "cells": [
  {
   "cell_type": "code",
   "execution_count": 175,
   "metadata": {},
   "outputs": [],
   "source": [
    "import pandas as pd\n",
    "import torch\n",
    "import torch.nn as nn\n",
    "import torch.nn.functional as F\n",
    "import torch.optim as optim\n",
    "\n",
    "import matplotlib.pyplot as plt\n",
    "import numpy as np\n",
    "import random\n",
    "import os"
   ]
  },
  {
   "cell_type": "code",
   "execution_count": 176,
   "metadata": {},
   "outputs": [
    {
     "name": "stdout",
     "output_type": "stream",
     "text": [
      "data (104, 58, 7)\n",
      "labels (104, 58)\n"
     ]
    }
   ],
   "source": [
    "# Reading data files from my computer\n",
    "\n",
    "def get_data():\n",
    "    directory_pwd = '/Users/charbel/Desktop/COVID Hackathon/'\n",
    "    directory = os.fsencode(directory_pwd)\n",
    "    data = []\n",
    "    labels = []\n",
    "    for file in os.listdir(directory):\n",
    "        filename = os.fsdecode(file)\n",
    "        if filename.endswith(\".csv\"): \n",
    "            full_path = directory_pwd + filename\n",
    "            df = pd.read_csv(full_path)\n",
    "            df = df[df.Province_State != \"Recovered\"]\n",
    "            df = df.drop([\"Lat\", \"Long_\", \"Last_Update\", \"Province_State\", \"Country_Region\", \"UID\", \"ISO3\", \"FIPS\", \"Deaths\", \"Active\"], 1)\n",
    "            df = df.fillna(df.median())\n",
    "            labels.append(df['Confirmed'].to_numpy())\n",
    "            df = df.drop(['Confirmed'], 1)\n",
    "            data.append(df.to_numpy())\n",
    "    return data, labels\n",
    "\n",
    "data, labels = get_data()\n",
    "data = np.stack(data)\n",
    "print(\"data\", data.shape)\n",
    "labels = np.stack(labels)\n",
    "print(\"labels\", labels.shape)\n",
    "# (# of days, #of states/province, #of features)\n",
    "        "
   ]
  },
  {
   "cell_type": "code",
   "execution_count": 215,
   "metadata": {},
   "outputs": [],
   "source": [
    "class RNN(nn.Module):\n",
    "    def __init__(self, hidden_size):\n",
    "        super().__init__()\n",
    "        self.rnn = nn.GRU(input_size=58*7,\n",
    "                          hidden_size=hidden_size,\n",
    "                          batch_first=True)\n",
    "        self.proj = nn.Linear(in_features=hidden_size,\n",
    "                              out_features=58)\n",
    "    \n",
    "    def forward(self, inp):\n",
    "        X = inp.reshape([-1,58*7]).unsqueeze(dim=0)\n",
    "        out, last_hidden = self.rnn(X)\n",
    "        out_seq = self.proj(out)\n",
    "        return out_seq.squeeze()"
   ]
  },
  {
   "cell_type": "code",
   "execution_count": 216,
   "metadata": {},
   "outputs": [
    {
     "data": {
      "text/plain": [
       "torch.Size([104, 58])"
      ]
     },
     "execution_count": 216,
     "metadata": {},
     "output_type": "execute_result"
    }
   ],
   "source": [
    "rnn = RNN(406)\n",
    "y = rnn(torch.Tensor(data))\n",
    "y.shape"
   ]
  },
  {
   "cell_type": "code",
   "execution_count": 179,
   "metadata": {},
   "outputs": [
    {
     "data": {
      "text/plain": [
       "tensor([[-0.4252,  0.5066,  0.2734,  ...,  0.4183, -0.4099,  0.1718],\n",
       "        [-0.4252,  0.5066,  0.2734,  ...,  0.4183, -0.4099,  0.1718],\n",
       "        [-0.1855,  0.0461,  0.0728,  ...,  0.5212, -0.1422,  0.1933],\n",
       "        ...,\n",
       "        [ 0.3490, -0.3816, -0.1877,  ...,  0.5307,  0.3856,  0.5428],\n",
       "        [-0.1486,  0.4895,  0.1528,  ..., -0.2950,  0.3384,  0.2921],\n",
       "        [-0.1486,  0.4895,  0.1528,  ..., -0.2950,  0.3384,  0.2921]],\n",
       "       grad_fn=<SqueezeBackward0>)"
      ]
     },
     "execution_count": 179,
     "metadata": {},
     "output_type": "execute_result"
    }
   ],
   "source": [
    "y"
   ]
  },
  {
   "cell_type": "code",
   "execution_count": null,
   "metadata": {},
   "outputs": [],
   "source": []
  }
 ],
 "metadata": {
  "kernelspec": {
   "display_name": "Python 3",
   "language": "python",
   "name": "python3"
  },
  "language_info": {
   "codemirror_mode": {
    "name": "ipython",
    "version": 3
   },
   "file_extension": ".py",
   "mimetype": "text/x-python",
   "name": "python",
   "nbconvert_exporter": "python",
   "pygments_lexer": "ipython3",
   "version": "3.7.4"
  }
 },
 "nbformat": 4,
 "nbformat_minor": 2
}
